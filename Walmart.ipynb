{
 "cells": [
  {
   "cell_type": "code",
   "execution_count": 1,
   "id": "d6c65f4f",
   "metadata": {},
   "outputs": [
    {
     "name": "stderr",
     "output_type": "stream",
     "text": [
      "Importing plotly failed. Interactive plots will not work.\n"
     ]
    }
   ],
   "source": [
    "import pandas as pd\n",
    "import numpy as np\n",
    "import matplotlib.pyplot as plt\n",
    "from matplotlib.pyplot import figure\n",
    "import seaborn as sns\n",
    "import statsmodels.api as sms\n",
    "from datetime import datetime \n",
    "from pmdarima import auto_arima\n",
    "from statsmodels.tsa.stattools import adfuller\n",
    "from sklearn.metrics import mean_squared_error\n",
    "from statsmodels.graphics.tsaplots import plot_acf,plot_pacf\n",
    "from statsmodels.tsa.statespace.sarimax import SARIMAX\n",
    "import warnings\n",
    "from prophet import Prophet\n",
    "warnings.filterwarnings(\"ignore\")\n",
    "%matplotlib inline"
   ]
  },
  {
   "cell_type": "code",
   "execution_count": 2,
   "id": "48da72bb",
   "metadata": {},
   "outputs": [],
   "source": [
    "df_train= pd.read_csv(\"train.csv\")\n",
    "df_fea= pd.read_csv(\"features.csv\")\n",
    "df_store= pd.read_csv(\"stores.csv\")"
   ]
  },
  {
   "cell_type": "code",
   "execution_count": 3,
   "id": "0a387a11",
   "metadata": {},
   "outputs": [
    {
     "data": {
      "text/html": [
       "<div>\n",
       "<style scoped>\n",
       "    .dataframe tbody tr th:only-of-type {\n",
       "        vertical-align: middle;\n",
       "    }\n",
       "\n",
       "    .dataframe tbody tr th {\n",
       "        vertical-align: top;\n",
       "    }\n",
       "\n",
       "    .dataframe thead th {\n",
       "        text-align: right;\n",
       "    }\n",
       "</style>\n",
       "<table border=\"1\" class=\"dataframe\">\n",
       "  <thead>\n",
       "    <tr style=\"text-align: right;\">\n",
       "      <th></th>\n",
       "      <th>Store</th>\n",
       "      <th>Dept</th>\n",
       "      <th>Date</th>\n",
       "      <th>Weekly_Sales</th>\n",
       "      <th>IsHoliday</th>\n",
       "    </tr>\n",
       "  </thead>\n",
       "  <tbody>\n",
       "    <tr>\n",
       "      <th>0</th>\n",
       "      <td>1</td>\n",
       "      <td>1</td>\n",
       "      <td>2010-02-05</td>\n",
       "      <td>24924.50</td>\n",
       "      <td>False</td>\n",
       "    </tr>\n",
       "    <tr>\n",
       "      <th>1</th>\n",
       "      <td>1</td>\n",
       "      <td>1</td>\n",
       "      <td>2010-02-12</td>\n",
       "      <td>46039.49</td>\n",
       "      <td>True</td>\n",
       "    </tr>\n",
       "    <tr>\n",
       "      <th>2</th>\n",
       "      <td>1</td>\n",
       "      <td>1</td>\n",
       "      <td>2010-02-19</td>\n",
       "      <td>41595.55</td>\n",
       "      <td>False</td>\n",
       "    </tr>\n",
       "    <tr>\n",
       "      <th>3</th>\n",
       "      <td>1</td>\n",
       "      <td>1</td>\n",
       "      <td>2010-02-26</td>\n",
       "      <td>19403.54</td>\n",
       "      <td>False</td>\n",
       "    </tr>\n",
       "    <tr>\n",
       "      <th>4</th>\n",
       "      <td>1</td>\n",
       "      <td>1</td>\n",
       "      <td>2010-03-05</td>\n",
       "      <td>21827.90</td>\n",
       "      <td>False</td>\n",
       "    </tr>\n",
       "  </tbody>\n",
       "</table>\n",
       "</div>"
      ],
      "text/plain": [
       "   Store  Dept        Date  Weekly_Sales  IsHoliday\n",
       "0      1     1  2010-02-05      24924.50      False\n",
       "1      1     1  2010-02-12      46039.49       True\n",
       "2      1     1  2010-02-19      41595.55      False\n",
       "3      1     1  2010-02-26      19403.54      False\n",
       "4      1     1  2010-03-05      21827.90      False"
      ]
     },
     "execution_count": 3,
     "metadata": {},
     "output_type": "execute_result"
    }
   ],
   "source": [
    "df_train.head()"
   ]
  },
  {
   "cell_type": "code",
   "execution_count": 4,
   "id": "51cc28fe",
   "metadata": {},
   "outputs": [
    {
     "data": {
      "text/html": [
       "<div>\n",
       "<style scoped>\n",
       "    .dataframe tbody tr th:only-of-type {\n",
       "        vertical-align: middle;\n",
       "    }\n",
       "\n",
       "    .dataframe tbody tr th {\n",
       "        vertical-align: top;\n",
       "    }\n",
       "\n",
       "    .dataframe thead th {\n",
       "        text-align: right;\n",
       "    }\n",
       "</style>\n",
       "<table border=\"1\" class=\"dataframe\">\n",
       "  <thead>\n",
       "    <tr style=\"text-align: right;\">\n",
       "      <th></th>\n",
       "      <th>Store</th>\n",
       "      <th>Dept</th>\n",
       "      <th>Weekly_Sales</th>\n",
       "    </tr>\n",
       "  </thead>\n",
       "  <tbody>\n",
       "    <tr>\n",
       "      <th>count</th>\n",
       "      <td>420212.000000</td>\n",
       "      <td>420212.000000</td>\n",
       "      <td>420212.000000</td>\n",
       "    </tr>\n",
       "    <tr>\n",
       "      <th>mean</th>\n",
       "      <td>22.195611</td>\n",
       "      <td>44.241309</td>\n",
       "      <td>16033.114591</td>\n",
       "    </tr>\n",
       "    <tr>\n",
       "      <th>std</th>\n",
       "      <td>12.787236</td>\n",
       "      <td>30.508819</td>\n",
       "      <td>22729.492116</td>\n",
       "    </tr>\n",
       "    <tr>\n",
       "      <th>min</th>\n",
       "      <td>1.000000</td>\n",
       "      <td>1.000000</td>\n",
       "      <td>0.010000</td>\n",
       "    </tr>\n",
       "    <tr>\n",
       "      <th>25%</th>\n",
       "      <td>11.000000</td>\n",
       "      <td>18.000000</td>\n",
       "      <td>2120.130000</td>\n",
       "    </tr>\n",
       "    <tr>\n",
       "      <th>50%</th>\n",
       "      <td>22.000000</td>\n",
       "      <td>37.000000</td>\n",
       "      <td>7661.700000</td>\n",
       "    </tr>\n",
       "    <tr>\n",
       "      <th>75%</th>\n",
       "      <td>33.000000</td>\n",
       "      <td>74.000000</td>\n",
       "      <td>20271.265000</td>\n",
       "    </tr>\n",
       "    <tr>\n",
       "      <th>max</th>\n",
       "      <td>45.000000</td>\n",
       "      <td>99.000000</td>\n",
       "      <td>693099.360000</td>\n",
       "    </tr>\n",
       "  </tbody>\n",
       "</table>\n",
       "</div>"
      ],
      "text/plain": [
       "               Store           Dept   Weekly_Sales\n",
       "count  420212.000000  420212.000000  420212.000000\n",
       "mean       22.195611      44.241309   16033.114591\n",
       "std        12.787236      30.508819   22729.492116\n",
       "min         1.000000       1.000000       0.010000\n",
       "25%        11.000000      18.000000    2120.130000\n",
       "50%        22.000000      37.000000    7661.700000\n",
       "75%        33.000000      74.000000   20271.265000\n",
       "max        45.000000      99.000000  693099.360000"
      ]
     },
     "execution_count": 4,
     "metadata": {},
     "output_type": "execute_result"
    }
   ],
   "source": [
    "# Manage 'Weekly_Sales' to be positive for convenience  \n",
    "df_train= df_train[df_train['Weekly_Sales']>0]\n",
    "df_train.describe()"
   ]
  },
  {
   "cell_type": "code",
   "execution_count": 5,
   "id": "3bed24aa",
   "metadata": {},
   "outputs": [
    {
     "data": {
      "text/html": [
       "<div>\n",
       "<style scoped>\n",
       "    .dataframe tbody tr th:only-of-type {\n",
       "        vertical-align: middle;\n",
       "    }\n",
       "\n",
       "    .dataframe tbody tr th {\n",
       "        vertical-align: top;\n",
       "    }\n",
       "\n",
       "    .dataframe thead th {\n",
       "        text-align: right;\n",
       "    }\n",
       "</style>\n",
       "<table border=\"1\" class=\"dataframe\">\n",
       "  <thead>\n",
       "    <tr style=\"text-align: right;\">\n",
       "      <th></th>\n",
       "      <th>Store</th>\n",
       "      <th>Type</th>\n",
       "      <th>Size</th>\n",
       "    </tr>\n",
       "  </thead>\n",
       "  <tbody>\n",
       "    <tr>\n",
       "      <th>0</th>\n",
       "      <td>1</td>\n",
       "      <td>A</td>\n",
       "      <td>151315</td>\n",
       "    </tr>\n",
       "    <tr>\n",
       "      <th>1</th>\n",
       "      <td>2</td>\n",
       "      <td>A</td>\n",
       "      <td>202307</td>\n",
       "    </tr>\n",
       "    <tr>\n",
       "      <th>2</th>\n",
       "      <td>3</td>\n",
       "      <td>B</td>\n",
       "      <td>37392</td>\n",
       "    </tr>\n",
       "    <tr>\n",
       "      <th>3</th>\n",
       "      <td>4</td>\n",
       "      <td>A</td>\n",
       "      <td>205863</td>\n",
       "    </tr>\n",
       "    <tr>\n",
       "      <th>4</th>\n",
       "      <td>5</td>\n",
       "      <td>B</td>\n",
       "      <td>34875</td>\n",
       "    </tr>\n",
       "  </tbody>\n",
       "</table>\n",
       "</div>"
      ],
      "text/plain": [
       "   Store Type    Size\n",
       "0      1    A  151315\n",
       "1      2    A  202307\n",
       "2      3    B   37392\n",
       "3      4    A  205863\n",
       "4      5    B   34875"
      ]
     },
     "execution_count": 5,
     "metadata": {},
     "output_type": "execute_result"
    }
   ],
   "source": [
    "df_store.head()"
   ]
  },
  {
   "cell_type": "code",
   "execution_count": 6,
   "id": "4bbe0eab",
   "metadata": {},
   "outputs": [
    {
     "data": {
      "text/html": [
       "<div>\n",
       "<style scoped>\n",
       "    .dataframe tbody tr th:only-of-type {\n",
       "        vertical-align: middle;\n",
       "    }\n",
       "\n",
       "    .dataframe tbody tr th {\n",
       "        vertical-align: top;\n",
       "    }\n",
       "\n",
       "    .dataframe thead th {\n",
       "        text-align: right;\n",
       "    }\n",
       "</style>\n",
       "<table border=\"1\" class=\"dataframe\">\n",
       "  <thead>\n",
       "    <tr style=\"text-align: right;\">\n",
       "      <th></th>\n",
       "      <th>Store</th>\n",
       "      <th>Date</th>\n",
       "      <th>Temperature</th>\n",
       "      <th>Fuel_Price</th>\n",
       "      <th>MarkDown1</th>\n",
       "      <th>MarkDown2</th>\n",
       "      <th>MarkDown3</th>\n",
       "      <th>MarkDown4</th>\n",
       "      <th>MarkDown5</th>\n",
       "      <th>CPI</th>\n",
       "      <th>Unemployment</th>\n",
       "      <th>IsHoliday</th>\n",
       "    </tr>\n",
       "  </thead>\n",
       "  <tbody>\n",
       "    <tr>\n",
       "      <th>0</th>\n",
       "      <td>1</td>\n",
       "      <td>2010-02-05</td>\n",
       "      <td>42.31</td>\n",
       "      <td>2.572</td>\n",
       "      <td>NaN</td>\n",
       "      <td>NaN</td>\n",
       "      <td>NaN</td>\n",
       "      <td>NaN</td>\n",
       "      <td>NaN</td>\n",
       "      <td>211.096358</td>\n",
       "      <td>8.106</td>\n",
       "      <td>False</td>\n",
       "    </tr>\n",
       "    <tr>\n",
       "      <th>1</th>\n",
       "      <td>1</td>\n",
       "      <td>2010-02-12</td>\n",
       "      <td>38.51</td>\n",
       "      <td>2.548</td>\n",
       "      <td>NaN</td>\n",
       "      <td>NaN</td>\n",
       "      <td>NaN</td>\n",
       "      <td>NaN</td>\n",
       "      <td>NaN</td>\n",
       "      <td>211.242170</td>\n",
       "      <td>8.106</td>\n",
       "      <td>True</td>\n",
       "    </tr>\n",
       "    <tr>\n",
       "      <th>2</th>\n",
       "      <td>1</td>\n",
       "      <td>2010-02-19</td>\n",
       "      <td>39.93</td>\n",
       "      <td>2.514</td>\n",
       "      <td>NaN</td>\n",
       "      <td>NaN</td>\n",
       "      <td>NaN</td>\n",
       "      <td>NaN</td>\n",
       "      <td>NaN</td>\n",
       "      <td>211.289143</td>\n",
       "      <td>8.106</td>\n",
       "      <td>False</td>\n",
       "    </tr>\n",
       "    <tr>\n",
       "      <th>3</th>\n",
       "      <td>1</td>\n",
       "      <td>2010-02-26</td>\n",
       "      <td>46.63</td>\n",
       "      <td>2.561</td>\n",
       "      <td>NaN</td>\n",
       "      <td>NaN</td>\n",
       "      <td>NaN</td>\n",
       "      <td>NaN</td>\n",
       "      <td>NaN</td>\n",
       "      <td>211.319643</td>\n",
       "      <td>8.106</td>\n",
       "      <td>False</td>\n",
       "    </tr>\n",
       "    <tr>\n",
       "      <th>4</th>\n",
       "      <td>1</td>\n",
       "      <td>2010-03-05</td>\n",
       "      <td>46.50</td>\n",
       "      <td>2.625</td>\n",
       "      <td>NaN</td>\n",
       "      <td>NaN</td>\n",
       "      <td>NaN</td>\n",
       "      <td>NaN</td>\n",
       "      <td>NaN</td>\n",
       "      <td>211.350143</td>\n",
       "      <td>8.106</td>\n",
       "      <td>False</td>\n",
       "    </tr>\n",
       "  </tbody>\n",
       "</table>\n",
       "</div>"
      ],
      "text/plain": [
       "   Store        Date  Temperature  Fuel_Price  MarkDown1  MarkDown2  \\\n",
       "0      1  2010-02-05        42.31       2.572        NaN        NaN   \n",
       "1      1  2010-02-12        38.51       2.548        NaN        NaN   \n",
       "2      1  2010-02-19        39.93       2.514        NaN        NaN   \n",
       "3      1  2010-02-26        46.63       2.561        NaN        NaN   \n",
       "4      1  2010-03-05        46.50       2.625        NaN        NaN   \n",
       "\n",
       "   MarkDown3  MarkDown4  MarkDown5         CPI  Unemployment  IsHoliday  \n",
       "0        NaN        NaN        NaN  211.096358         8.106      False  \n",
       "1        NaN        NaN        NaN  211.242170         8.106       True  \n",
       "2        NaN        NaN        NaN  211.289143         8.106      False  \n",
       "3        NaN        NaN        NaN  211.319643         8.106      False  \n",
       "4        NaN        NaN        NaN  211.350143         8.106      False  "
      ]
     },
     "execution_count": 6,
     "metadata": {},
     "output_type": "execute_result"
    }
   ],
   "source": [
    "df_fea.head()"
   ]
  },
  {
   "cell_type": "code",
   "execution_count": 7,
   "id": "c873e63e",
   "metadata": {},
   "outputs": [],
   "source": [
    "df_train_new = df_train.merge(df_fea, on=['Store','Date'], how = 'inner').merge(df_store,on=['Store'],\n",
    "                                                                                how = 'inner')"
   ]
  },
  {
   "cell_type": "code",
   "execution_count": 8,
   "id": "d858e6fb",
   "metadata": {},
   "outputs": [
    {
     "data": {
      "text/html": [
       "<div>\n",
       "<style scoped>\n",
       "    .dataframe tbody tr th:only-of-type {\n",
       "        vertical-align: middle;\n",
       "    }\n",
       "\n",
       "    .dataframe tbody tr th {\n",
       "        vertical-align: top;\n",
       "    }\n",
       "\n",
       "    .dataframe thead th {\n",
       "        text-align: right;\n",
       "    }\n",
       "</style>\n",
       "<table border=\"1\" class=\"dataframe\">\n",
       "  <thead>\n",
       "    <tr style=\"text-align: right;\">\n",
       "      <th></th>\n",
       "      <th>Store</th>\n",
       "      <th>Dept</th>\n",
       "      <th>Date</th>\n",
       "      <th>Weekly_Sales</th>\n",
       "      <th>IsHoliday_x</th>\n",
       "      <th>Temperature</th>\n",
       "      <th>Fuel_Price</th>\n",
       "      <th>MarkDown1</th>\n",
       "      <th>MarkDown2</th>\n",
       "      <th>MarkDown3</th>\n",
       "      <th>MarkDown4</th>\n",
       "      <th>MarkDown5</th>\n",
       "      <th>CPI</th>\n",
       "      <th>Unemployment</th>\n",
       "      <th>IsHoliday_y</th>\n",
       "      <th>Type</th>\n",
       "      <th>Size</th>\n",
       "    </tr>\n",
       "  </thead>\n",
       "  <tbody>\n",
       "    <tr>\n",
       "      <th>0</th>\n",
       "      <td>1</td>\n",
       "      <td>1</td>\n",
       "      <td>2010-02-05</td>\n",
       "      <td>24924.50</td>\n",
       "      <td>False</td>\n",
       "      <td>42.31</td>\n",
       "      <td>2.572</td>\n",
       "      <td>NaN</td>\n",
       "      <td>NaN</td>\n",
       "      <td>NaN</td>\n",
       "      <td>NaN</td>\n",
       "      <td>NaN</td>\n",
       "      <td>211.096358</td>\n",
       "      <td>8.106</td>\n",
       "      <td>False</td>\n",
       "      <td>A</td>\n",
       "      <td>151315</td>\n",
       "    </tr>\n",
       "    <tr>\n",
       "      <th>1</th>\n",
       "      <td>1</td>\n",
       "      <td>2</td>\n",
       "      <td>2010-02-05</td>\n",
       "      <td>50605.27</td>\n",
       "      <td>False</td>\n",
       "      <td>42.31</td>\n",
       "      <td>2.572</td>\n",
       "      <td>NaN</td>\n",
       "      <td>NaN</td>\n",
       "      <td>NaN</td>\n",
       "      <td>NaN</td>\n",
       "      <td>NaN</td>\n",
       "      <td>211.096358</td>\n",
       "      <td>8.106</td>\n",
       "      <td>False</td>\n",
       "      <td>A</td>\n",
       "      <td>151315</td>\n",
       "    </tr>\n",
       "    <tr>\n",
       "      <th>2</th>\n",
       "      <td>1</td>\n",
       "      <td>3</td>\n",
       "      <td>2010-02-05</td>\n",
       "      <td>13740.12</td>\n",
       "      <td>False</td>\n",
       "      <td>42.31</td>\n",
       "      <td>2.572</td>\n",
       "      <td>NaN</td>\n",
       "      <td>NaN</td>\n",
       "      <td>NaN</td>\n",
       "      <td>NaN</td>\n",
       "      <td>NaN</td>\n",
       "      <td>211.096358</td>\n",
       "      <td>8.106</td>\n",
       "      <td>False</td>\n",
       "      <td>A</td>\n",
       "      <td>151315</td>\n",
       "    </tr>\n",
       "    <tr>\n",
       "      <th>3</th>\n",
       "      <td>1</td>\n",
       "      <td>4</td>\n",
       "      <td>2010-02-05</td>\n",
       "      <td>39954.04</td>\n",
       "      <td>False</td>\n",
       "      <td>42.31</td>\n",
       "      <td>2.572</td>\n",
       "      <td>NaN</td>\n",
       "      <td>NaN</td>\n",
       "      <td>NaN</td>\n",
       "      <td>NaN</td>\n",
       "      <td>NaN</td>\n",
       "      <td>211.096358</td>\n",
       "      <td>8.106</td>\n",
       "      <td>False</td>\n",
       "      <td>A</td>\n",
       "      <td>151315</td>\n",
       "    </tr>\n",
       "    <tr>\n",
       "      <th>4</th>\n",
       "      <td>1</td>\n",
       "      <td>5</td>\n",
       "      <td>2010-02-05</td>\n",
       "      <td>32229.38</td>\n",
       "      <td>False</td>\n",
       "      <td>42.31</td>\n",
       "      <td>2.572</td>\n",
       "      <td>NaN</td>\n",
       "      <td>NaN</td>\n",
       "      <td>NaN</td>\n",
       "      <td>NaN</td>\n",
       "      <td>NaN</td>\n",
       "      <td>211.096358</td>\n",
       "      <td>8.106</td>\n",
       "      <td>False</td>\n",
       "      <td>A</td>\n",
       "      <td>151315</td>\n",
       "    </tr>\n",
       "    <tr>\n",
       "      <th>...</th>\n",
       "      <td>...</td>\n",
       "      <td>...</td>\n",
       "      <td>...</td>\n",
       "      <td>...</td>\n",
       "      <td>...</td>\n",
       "      <td>...</td>\n",
       "      <td>...</td>\n",
       "      <td>...</td>\n",
       "      <td>...</td>\n",
       "      <td>...</td>\n",
       "      <td>...</td>\n",
       "      <td>...</td>\n",
       "      <td>...</td>\n",
       "      <td>...</td>\n",
       "      <td>...</td>\n",
       "      <td>...</td>\n",
       "      <td>...</td>\n",
       "    </tr>\n",
       "    <tr>\n",
       "      <th>420207</th>\n",
       "      <td>45</td>\n",
       "      <td>93</td>\n",
       "      <td>2012-10-26</td>\n",
       "      <td>2487.80</td>\n",
       "      <td>False</td>\n",
       "      <td>58.85</td>\n",
       "      <td>3.882</td>\n",
       "      <td>4018.91</td>\n",
       "      <td>58.08</td>\n",
       "      <td>100.0</td>\n",
       "      <td>211.94</td>\n",
       "      <td>858.33</td>\n",
       "      <td>192.308899</td>\n",
       "      <td>8.667</td>\n",
       "      <td>False</td>\n",
       "      <td>B</td>\n",
       "      <td>118221</td>\n",
       "    </tr>\n",
       "    <tr>\n",
       "      <th>420208</th>\n",
       "      <td>45</td>\n",
       "      <td>94</td>\n",
       "      <td>2012-10-26</td>\n",
       "      <td>5203.31</td>\n",
       "      <td>False</td>\n",
       "      <td>58.85</td>\n",
       "      <td>3.882</td>\n",
       "      <td>4018.91</td>\n",
       "      <td>58.08</td>\n",
       "      <td>100.0</td>\n",
       "      <td>211.94</td>\n",
       "      <td>858.33</td>\n",
       "      <td>192.308899</td>\n",
       "      <td>8.667</td>\n",
       "      <td>False</td>\n",
       "      <td>B</td>\n",
       "      <td>118221</td>\n",
       "    </tr>\n",
       "    <tr>\n",
       "      <th>420209</th>\n",
       "      <td>45</td>\n",
       "      <td>95</td>\n",
       "      <td>2012-10-26</td>\n",
       "      <td>56017.47</td>\n",
       "      <td>False</td>\n",
       "      <td>58.85</td>\n",
       "      <td>3.882</td>\n",
       "      <td>4018.91</td>\n",
       "      <td>58.08</td>\n",
       "      <td>100.0</td>\n",
       "      <td>211.94</td>\n",
       "      <td>858.33</td>\n",
       "      <td>192.308899</td>\n",
       "      <td>8.667</td>\n",
       "      <td>False</td>\n",
       "      <td>B</td>\n",
       "      <td>118221</td>\n",
       "    </tr>\n",
       "    <tr>\n",
       "      <th>420210</th>\n",
       "      <td>45</td>\n",
       "      <td>97</td>\n",
       "      <td>2012-10-26</td>\n",
       "      <td>6817.48</td>\n",
       "      <td>False</td>\n",
       "      <td>58.85</td>\n",
       "      <td>3.882</td>\n",
       "      <td>4018.91</td>\n",
       "      <td>58.08</td>\n",
       "      <td>100.0</td>\n",
       "      <td>211.94</td>\n",
       "      <td>858.33</td>\n",
       "      <td>192.308899</td>\n",
       "      <td>8.667</td>\n",
       "      <td>False</td>\n",
       "      <td>B</td>\n",
       "      <td>118221</td>\n",
       "    </tr>\n",
       "    <tr>\n",
       "      <th>420211</th>\n",
       "      <td>45</td>\n",
       "      <td>98</td>\n",
       "      <td>2012-10-26</td>\n",
       "      <td>1076.80</td>\n",
       "      <td>False</td>\n",
       "      <td>58.85</td>\n",
       "      <td>3.882</td>\n",
       "      <td>4018.91</td>\n",
       "      <td>58.08</td>\n",
       "      <td>100.0</td>\n",
       "      <td>211.94</td>\n",
       "      <td>858.33</td>\n",
       "      <td>192.308899</td>\n",
       "      <td>8.667</td>\n",
       "      <td>False</td>\n",
       "      <td>B</td>\n",
       "      <td>118221</td>\n",
       "    </tr>\n",
       "  </tbody>\n",
       "</table>\n",
       "<p>420212 rows × 17 columns</p>\n",
       "</div>"
      ],
      "text/plain": [
       "        Store  Dept        Date  Weekly_Sales  IsHoliday_x  Temperature  \\\n",
       "0           1     1  2010-02-05      24924.50        False        42.31   \n",
       "1           1     2  2010-02-05      50605.27        False        42.31   \n",
       "2           1     3  2010-02-05      13740.12        False        42.31   \n",
       "3           1     4  2010-02-05      39954.04        False        42.31   \n",
       "4           1     5  2010-02-05      32229.38        False        42.31   \n",
       "...       ...   ...         ...           ...          ...          ...   \n",
       "420207     45    93  2012-10-26       2487.80        False        58.85   \n",
       "420208     45    94  2012-10-26       5203.31        False        58.85   \n",
       "420209     45    95  2012-10-26      56017.47        False        58.85   \n",
       "420210     45    97  2012-10-26       6817.48        False        58.85   \n",
       "420211     45    98  2012-10-26       1076.80        False        58.85   \n",
       "\n",
       "        Fuel_Price  MarkDown1  MarkDown2  MarkDown3  MarkDown4  MarkDown5  \\\n",
       "0            2.572        NaN        NaN        NaN        NaN        NaN   \n",
       "1            2.572        NaN        NaN        NaN        NaN        NaN   \n",
       "2            2.572        NaN        NaN        NaN        NaN        NaN   \n",
       "3            2.572        NaN        NaN        NaN        NaN        NaN   \n",
       "4            2.572        NaN        NaN        NaN        NaN        NaN   \n",
       "...            ...        ...        ...        ...        ...        ...   \n",
       "420207       3.882    4018.91      58.08      100.0     211.94     858.33   \n",
       "420208       3.882    4018.91      58.08      100.0     211.94     858.33   \n",
       "420209       3.882    4018.91      58.08      100.0     211.94     858.33   \n",
       "420210       3.882    4018.91      58.08      100.0     211.94     858.33   \n",
       "420211       3.882    4018.91      58.08      100.0     211.94     858.33   \n",
       "\n",
       "               CPI  Unemployment  IsHoliday_y Type    Size  \n",
       "0       211.096358         8.106        False    A  151315  \n",
       "1       211.096358         8.106        False    A  151315  \n",
       "2       211.096358         8.106        False    A  151315  \n",
       "3       211.096358         8.106        False    A  151315  \n",
       "4       211.096358         8.106        False    A  151315  \n",
       "...            ...           ...          ...  ...     ...  \n",
       "420207  192.308899         8.667        False    B  118221  \n",
       "420208  192.308899         8.667        False    B  118221  \n",
       "420209  192.308899         8.667        False    B  118221  \n",
       "420210  192.308899         8.667        False    B  118221  \n",
       "420211  192.308899         8.667        False    B  118221  \n",
       "\n",
       "[420212 rows x 17 columns]"
      ]
     },
     "execution_count": 8,
     "metadata": {},
     "output_type": "execute_result"
    }
   ],
   "source": [
    "df_train_new"
   ]
  },
  {
   "cell_type": "code",
   "execution_count": 9,
   "id": "86f51ca6",
   "metadata": {},
   "outputs": [],
   "source": [
    "df_train_new = df_train_new.drop('IsHoliday_y',axis=1)"
   ]
  },
  {
   "cell_type": "code",
   "execution_count": 10,
   "id": "144c0fdf",
   "metadata": {},
   "outputs": [
    {
     "name": "stdout",
     "output_type": "stream",
     "text": [
      "<class 'pandas.core.frame.DataFrame'>\n",
      "Int64Index: 420212 entries, 0 to 420211\n",
      "Data columns (total 16 columns):\n",
      " #   Column        Non-Null Count   Dtype  \n",
      "---  ------        --------------   -----  \n",
      " 0   Store         420212 non-null  int64  \n",
      " 1   Dept          420212 non-null  int64  \n",
      " 2   Date          420212 non-null  object \n",
      " 3   Weekly_Sales  420212 non-null  float64\n",
      " 4   IsHoliday_x   420212 non-null  bool   \n",
      " 5   Temperature   420212 non-null  float64\n",
      " 6   Fuel_Price    420212 non-null  float64\n",
      " 7   MarkDown1     150181 non-null  float64\n",
      " 8   MarkDown2     110904 non-null  float64\n",
      " 9   MarkDown3     136651 non-null  float64\n",
      " 10  MarkDown4     134518 non-null  float64\n",
      " 11  MarkDown5     150929 non-null  float64\n",
      " 12  CPI           420212 non-null  float64\n",
      " 13  Unemployment  420212 non-null  float64\n",
      " 14  Type          420212 non-null  object \n",
      " 15  Size          420212 non-null  int64  \n",
      "dtypes: bool(1), float64(10), int64(3), object(2)\n",
      "memory usage: 51.7+ MB\n"
     ]
    }
   ],
   "source": [
    "df_train_new.info()"
   ]
  },
  {
   "cell_type": "code",
   "execution_count": 11,
   "id": "683bdbf3",
   "metadata": {},
   "outputs": [],
   "source": [
    "df_train_new.rename(columns={'IsHoliday_x':'IsHoliday'}, inplace=True)"
   ]
  },
  {
   "cell_type": "code",
   "execution_count": 12,
   "id": "c5065934",
   "metadata": {},
   "outputs": [
    {
     "data": {
      "text/plain": [
       "Store           0\n",
       "Dept            0\n",
       "Date            0\n",
       "Weekly_Sales    0\n",
       "IsHoliday       0\n",
       "Temperature     0\n",
       "Fuel_Price      0\n",
       "MarkDown1       0\n",
       "MarkDown2       0\n",
       "MarkDown3       0\n",
       "MarkDown4       0\n",
       "MarkDown5       0\n",
       "CPI             0\n",
       "Unemployment    0\n",
       "Type            0\n",
       "Size            0\n",
       "dtype: int64"
      ]
     },
     "execution_count": 12,
     "metadata": {},
     "output_type": "execute_result"
    }
   ],
   "source": [
    "# Fill NA\n",
    "df_train_new.fillna(0, inplace=True)\n",
    "df_train_new.isna().sum()"
   ]
  },
  {
   "cell_type": "code",
   "execution_count": 13,
   "id": "c7d00e01",
   "metadata": {},
   "outputs": [],
   "source": [
    "df_train_new['Date'] = pd.to_datetime(df_train_new['Date'], format='%Y-%m-%d')"
   ]
  },
  {
   "cell_type": "code",
   "execution_count": 14,
   "id": "a7ec0e99",
   "metadata": {},
   "outputs": [],
   "source": [
    "df_train_new.set_index('Date', inplace=True)"
   ]
  },
  {
   "cell_type": "code",
   "execution_count": 15,
   "id": "a0a74631",
   "metadata": {},
   "outputs": [],
   "source": [
    "df_train_new = df_train_new.resample('MS').mean()"
   ]
  },
  {
   "cell_type": "code",
   "execution_count": 16,
   "id": "b25554a1",
   "metadata": {},
   "outputs": [],
   "source": [
    "df_train_new.rename(columns={'Weekly_Sales':'Monthly_Sales'}, inplace=True)"
   ]
  },
  {
   "cell_type": "code",
   "execution_count": 17,
   "id": "b3557860",
   "metadata": {},
   "outputs": [],
   "source": [
    "train_df = df_train_new[:int(0.8*(len(df_train_new)))]\n",
    "test_df = df_train_new[int(0.8*(len(df_train_new))):]"
   ]
  },
  {
   "cell_type": "code",
   "execution_count": 18,
   "id": "bae5c49a",
   "metadata": {},
   "outputs": [],
   "source": [
    "train = train_df['Monthly_Sales']\n",
    "test = test_df['Monthly_Sales']"
   ]
  },
  {
   "cell_type": "code",
   "execution_count": 19,
   "id": "b914c38a",
   "metadata": {},
   "outputs": [
    {
     "data": {
      "image/png": "[encoded data removed]",
      "text/plain": [
       "<Figure size 1440x576 with 1 Axes>"
      ]
     },
     "metadata": {
      "needs_background": "light"
     },
     "output_type": "display_data"
    }
   ],
   "source": [
    "train.plot(figsize=(20,8))\n",
    "test.plot(figsize=(20,8))\n",
    "plt.show()"
   ]
  },
  {
   "cell_type": "code",
   "execution_count": 20,
   "id": "f74b8633",
   "metadata": {},
   "outputs": [
    {
     "data": {
      "text/plain": [
       "Date\n",
       "2010-02-01    16123.339183\n",
       "2010-03-01    15480.222209\n",
       "2010-04-01    15786.479121\n",
       "2010-05-01    16063.976174\n",
       "2010-06-01    16551.606753\n",
       "Freq: MS, Name: Monthly_Sales, dtype: float64"
      ]
     },
     "execution_count": 20,
     "metadata": {},
     "output_type": "execute_result"
    }
   ],
   "source": [
    "train.head()"
   ]
  },
  {
   "cell_type": "code",
   "execution_count": 21,
   "id": "cafd2222",
   "metadata": {},
   "outputs": [],
   "source": [
    "def adf_test(series):\n",
    "    result=adfuller(series)\n",
    "    print('ADF Statistics: {}'.format(result[0]))\n",
    "    print('p- value: {}'.format(result[1]))\n",
    "    if result[1] <= 0.05:\n",
    "        print(\"strong evidence against the null hypothesis, reject the null hypothesis. Data has no unit root and is stationary\")\n",
    "    else:\n",
    "        print(\"weak evidence against null hypothesis, time series has a unit root, indicating it is non-stationary \")"
   ]
  },
  {
   "cell_type": "code",
   "execution_count": 22,
   "id": "3e70c918",
   "metadata": {},
   "outputs": [
    {
     "name": "stdout",
     "output_type": "stream",
     "text": [
      "ADF Statistics: -5.116882330046289\n",
      "p- value: 1.2963600508552113e-05\n",
      "strong evidence against the null hypothesis, reject the null hypothesis. Data has no unit root and is stationary\n"
     ]
    }
   ],
   "source": [
    "adf_test(train)"
   ]
  },
  {
   "cell_type": "code",
   "execution_count": 23,
   "id": "8755e44b",
   "metadata": {},
   "outputs": [
    {
     "data": {
      "image/png": "[encoded data removed]",
      "text/plain": [
       "<Figure size 432x288 with 1 Axes>"
      ]
     },
     "metadata": {
      "needs_background": "light"
     },
     "output_type": "display_data"
    }
   ],
   "source": [
    "acf = plot_acf(train)"
   ]
  },
  {
   "cell_type": "code",
   "execution_count": 24,
   "id": "9d2a37f5",
   "metadata": {},
   "outputs": [
    {
     "data": {
      "image/png": "[encoded data removed]",
      "text/plain": [
       "<Figure size 432x288 with 1 Axes>"
      ]
     },
     "metadata": {
      "needs_background": "light"
     },
     "output_type": "display_data"
    }
   ],
   "source": [
    "pacf = plot_pacf(train,lags=12)"
   ]
  },
  {
   "cell_type": "code",
   "execution_count": 25,
   "id": "9821b53a",
   "metadata": {},
   "outputs": [],
   "source": [
    "train = train.to_frame()"
   ]
  },
  {
   "cell_type": "code",
   "execution_count": 26,
   "id": "8a2c243f",
   "metadata": {},
   "outputs": [],
   "source": [
    "train['Diff_1'] = train['Monthly_Sales'] - train['Monthly_Sales'].shift(1)"
   ]
  },
  {
   "cell_type": "code",
   "execution_count": 27,
   "id": "60eedec0",
   "metadata": {},
   "outputs": [
    {
     "data": {
      "image/png": "[encoded data removed]",
      "text/plain": [
       "<Figure size 432x288 with 1 Axes>"
      ]
     },
     "metadata": {
      "needs_background": "light"
     },
     "output_type": "display_data"
    }
   ],
   "source": [
    "acf = plot_acf(train['Diff_1'].dropna())"
   ]
  },
  {
   "cell_type": "code",
   "execution_count": 28,
   "id": "b42b0837",
   "metadata": {},
   "outputs": [],
   "source": [
    "train['Diff_1_12'] = train['Diff_1'] - train['Diff_1'].shift(12)"
   ]
  },
  {
   "cell_type": "code",
   "execution_count": 29,
   "id": "99cc3072",
   "metadata": {},
   "outputs": [
    {
     "data": {
      "image/png": "[encoded data removed]",
      "text/plain": [
       "<Figure size 432x288 with 1 Axes>"
      ]
     },
     "metadata": {
      "needs_background": "light"
     },
     "output_type": "display_data"
    }
   ],
   "source": [
    "acf = plot_acf(train['Diff_1_12'].dropna(), lags=5)"
   ]
  },
  {
   "cell_type": "code",
   "execution_count": 30,
   "id": "68e3651f",
   "metadata": {},
   "outputs": [
    {
     "data": {
      "image/png": "[encoded data removed]",
      "text/plain": [
       "<Figure size 432x288 with 1 Axes>"
      ]
     },
     "metadata": {
      "needs_background": "light"
     },
     "output_type": "display_data"
    }
   ],
   "source": [
    "pacf = plot_pacf(train['Diff_1_12'].dropna(), lags=5)"
   ]
  },
  {
   "cell_type": "code",
   "execution_count": 31,
   "id": "e337d188",
   "metadata": {},
   "outputs": [
    {
     "name": "stdout",
     "output_type": "stream",
     "text": [
      " ARIMA(0,0,0)(0,0,0)[12] intercept   : AIC=197.085, Time=0.04 sec\n",
      " ARIMA(0,0,0)(0,0,1)[12] intercept   : AIC=inf, Time=0.09 sec\n",
      " ARIMA(0,0,0)(0,0,2)[12] intercept   : AIC=inf, Time=0.17 sec\n",
      " ARIMA(0,0,0)(0,0,3)[12] intercept   : AIC=inf, Time=0.42 sec\n",
      " ARIMA(0,0,0)(0,0,4)[12] intercept   : AIC=inf, Time=0.75 sec\n",
      " ARIMA(0,0,0)(0,0,5)[12] intercept   : AIC=inf, Time=0.98 sec\n",
      " ARIMA(0,0,0)(1,0,0)[12] intercept   : AIC=inf, Time=0.17 sec\n",
      " ARIMA(0,0,0)(1,0,1)[12] intercept   : AIC=inf, Time=0.22 sec\n",
      " ARIMA(0,0,0)(1,0,2)[12] intercept   : AIC=inf, Time=0.38 sec\n",
      " ARIMA(0,0,0)(1,0,3)[12] intercept   : AIC=inf, Time=0.72 sec\n",
      " ARIMA(0,0,0)(1,0,4)[12] intercept   : AIC=inf, Time=1.03 sec\n",
      " ARIMA(0,0,0)(2,0,0)[12] intercept   : AIC=inf, Time=0.34 sec\n",
      " ARIMA(0,0,0)(2,0,1)[12] intercept   : AIC=inf, Time=0.32 sec\n",
      " ARIMA(0,0,0)(2,0,2)[12] intercept   : AIC=197.399, Time=0.42 sec\n",
      " ARIMA(0,0,0)(2,0,3)[12] intercept   : AIC=inf, Time=0.74 sec\n",
      " ARIMA(0,0,0)(3,0,0)[12] intercept   : AIC=inf, Time=0.62 sec\n",
      " ARIMA(0,0,0)(3,0,1)[12] intercept   : AIC=inf, Time=0.73 sec\n",
      " ARIMA(0,0,0)(3,0,2)[12] intercept   : AIC=inf, Time=0.79 sec\n",
      " ARIMA(0,0,0)(4,0,0)[12] intercept   : AIC=inf, Time=1.09 sec\n",
      " ARIMA(0,0,0)(4,0,1)[12] intercept   : AIC=inf, Time=1.28 sec\n",
      " ARIMA(0,0,0)(5,0,0)[12] intercept   : AIC=inf, Time=1.82 sec\n",
      " ARIMA(0,0,1)(0,0,0)[12] intercept   : AIC=inf, Time=0.05 sec\n",
      " ARIMA(0,0,1)(0,0,1)[12] intercept   : AIC=inf, Time=0.12 sec\n",
      " ARIMA(0,0,1)(0,0,2)[12] intercept   : AIC=inf, Time=0.23 sec\n",
      " ARIMA(0,0,1)(0,0,3)[12] intercept   : AIC=inf, Time=0.51 sec\n",
      " ARIMA(0,0,1)(0,0,4)[12] intercept   : AIC=inf, Time=0.63 sec\n",
      " ARIMA(0,0,1)(1,0,0)[12] intercept   : AIC=inf, Time=0.18 sec\n",
      " ARIMA(0,0,1)(1,0,1)[12] intercept   : AIC=inf, Time=0.16 sec\n",
      " ARIMA(0,0,1)(1,0,2)[12] intercept   : AIC=inf, Time=0.34 sec\n",
      " ARIMA(0,0,1)(1,0,3)[12] intercept   : AIC=inf, Time=0.64 sec\n",
      " ARIMA(0,0,1)(2,0,0)[12] intercept   : AIC=inf, Time=0.35 sec\n",
      " ARIMA(0,0,1)(2,0,1)[12] intercept   : AIC=inf, Time=0.37 sec\n",
      " ARIMA(0,0,1)(2,0,2)[12] intercept   : AIC=inf, Time=0.43 sec\n",
      " ARIMA(0,0,1)(3,0,0)[12] intercept   : AIC=inf, Time=0.68 sec\n",
      " ARIMA(0,0,1)(3,0,1)[12] intercept   : AIC=inf, Time=0.78 sec\n",
      " ARIMA(0,0,1)(4,0,0)[12] intercept   : AIC=inf, Time=1.14 sec\n",
      " ARIMA(0,0,2)(0,0,0)[12] intercept   : AIC=inf, Time=0.10 sec\n",
      " ARIMA(0,0,2)(0,0,1)[12] intercept   : AIC=inf, Time=0.13 sec\n",
      " ARIMA(0,0,2)(0,0,2)[12] intercept   : AIC=inf, Time=0.32 sec\n",
      " ARIMA(0,0,2)(0,0,3)[12] intercept   : AIC=inf, Time=0.61 sec\n",
      " ARIMA(0,0,2)(1,0,0)[12] intercept   : AIC=inf, Time=0.18 sec\n",
      " ARIMA(0,0,2)(1,0,1)[12] intercept   : AIC=inf, Time=0.23 sec\n",
      " ARIMA(0,0,2)(1,0,2)[12] intercept   : AIC=inf, Time=0.33 sec\n",
      " ARIMA(0,0,2)(2,0,0)[12] intercept   : AIC=inf, Time=0.31 sec\n",
      " ARIMA(0,0,2)(2,0,1)[12] intercept   : AIC=inf, Time=0.37 sec\n",
      " ARIMA(0,0,2)(3,0,0)[12] intercept   : AIC=inf, Time=0.64 sec\n",
      " ARIMA(0,0,3)(0,0,0)[12] intercept   : AIC=inf, Time=0.13 sec\n",
      " ARIMA(0,0,3)(0,0,1)[12] intercept   : AIC=inf, Time=0.20 sec\n",
      " ARIMA(0,0,3)(0,0,2)[12] intercept   : AIC=inf, Time=0.34 sec\n",
      " ARIMA(0,0,3)(1,0,0)[12] intercept   : AIC=inf, Time=0.22 sec\n",
      " ARIMA(0,0,3)(1,0,1)[12] intercept   : AIC=inf, Time=0.29 sec\n",
      " ARIMA(0,0,3)(2,0,0)[12] intercept   : AIC=inf, Time=0.38 sec\n",
      " ARIMA(0,0,4)(0,0,0)[12] intercept   : AIC=inf, Time=0.13 sec\n",
      " ARIMA(0,0,4)(0,0,1)[12] intercept   : AIC=inf, Time=0.23 sec\n",
      " ARIMA(0,0,4)(1,0,0)[12] intercept   : AIC=198.913, Time=0.21 sec\n",
      " ARIMA(0,0,5)(0,0,0)[12] intercept   : AIC=198.721, Time=0.15 sec\n",
      " ARIMA(1,0,0)(0,0,0)[12] intercept   : AIC=197.796, Time=0.03 sec\n",
      " ARIMA(1,0,0)(0,0,1)[12] intercept   : AIC=inf, Time=0.09 sec\n",
      " ARIMA(1,0,0)(0,0,2)[12] intercept   : AIC=inf, Time=0.20 sec\n",
      " ARIMA(1,0,0)(0,0,3)[12] intercept   : AIC=inf, Time=0.44 sec\n",
      " ARIMA(1,0,0)(0,0,4)[12] intercept   : AIC=inf, Time=0.69 sec\n",
      " ARIMA(1,0,0)(1,0,0)[12] intercept   : AIC=inf, Time=0.17 sec\n",
      " ARIMA(1,0,0)(1,0,1)[12] intercept   : AIC=inf, Time=0.19 sec\n",
      " ARIMA(1,0,0)(1,0,2)[12] intercept   : AIC=inf, Time=0.34 sec\n",
      " ARIMA(1,0,0)(1,0,3)[12] intercept   : AIC=inf, Time=0.60 sec\n",
      " ARIMA(1,0,0)(2,0,0)[12] intercept   : AIC=inf, Time=0.34 sec\n",
      " ARIMA(1,0,0)(2,0,1)[12] intercept   : AIC=195.665, Time=0.40 sec\n",
      " ARIMA(1,0,0)(2,0,2)[12] intercept   : AIC=199.123, Time=0.52 sec\n",
      " ARIMA(1,0,0)(3,0,0)[12] intercept   : AIC=inf, Time=0.63 sec\n",
      " ARIMA(1,0,0)(3,0,1)[12] intercept   : AIC=inf, Time=0.87 sec\n",
      " ARIMA(1,0,0)(4,0,0)[12] intercept   : AIC=inf, Time=1.20 sec\n",
      " ARIMA(1,0,1)(0,0,0)[12] intercept   : AIC=inf, Time=0.07 sec\n",
      " ARIMA(1,0,1)(0,0,1)[12] intercept   : AIC=inf, Time=0.18 sec\n",
      " ARIMA(1,0,1)(0,0,2)[12] intercept   : AIC=inf, Time=0.28 sec\n",
      " ARIMA(1,0,1)(0,0,3)[12] intercept   : AIC=201.074, Time=0.51 sec\n",
      " ARIMA(1,0,1)(1,0,0)[12] intercept   : AIC=inf, Time=0.18 sec\n",
      " ARIMA(1,0,1)(1,0,1)[12] intercept   : AIC=inf, Time=0.24 sec\n",
      " ARIMA(1,0,1)(1,0,2)[12] intercept   : AIC=inf, Time=0.28 sec\n",
      " ARIMA(1,0,1)(2,0,0)[12] intercept   : AIC=inf, Time=0.42 sec\n",
      " ARIMA(1,0,1)(2,0,1)[12] intercept   : AIC=inf, Time=0.35 sec\n",
      " ARIMA(1,0,1)(3,0,0)[12] intercept   : AIC=inf, Time=0.75 sec\n",
      " ARIMA(1,0,2)(0,0,0)[12] intercept   : AIC=inf, Time=0.10 sec\n",
      " ARIMA(1,0,2)(0,0,1)[12] intercept   : AIC=inf, Time=0.15 sec\n",
      " ARIMA(1,0,2)(0,0,2)[12] intercept   : AIC=inf, Time=0.32 sec\n",
      " ARIMA(1,0,2)(1,0,0)[12] intercept   : AIC=inf, Time=0.24 sec\n",
      " ARIMA(1,0,2)(1,0,1)[12] intercept   : AIC=inf, Time=0.34 sec\n",
      " ARIMA(1,0,2)(2,0,0)[12] intercept   : AIC=inf, Time=0.38 sec\n",
      " ARIMA(1,0,3)(0,0,0)[12] intercept   : AIC=inf, Time=0.15 sec\n",
      " ARIMA(1,0,3)(0,0,1)[12] intercept   : AIC=inf, Time=0.24 sec\n",
      " ARIMA(1,0,3)(1,0,0)[12] intercept   : AIC=inf, Time=0.27 sec\n",
      " ARIMA(1,0,4)(0,0,0)[12] intercept   : AIC=198.087, Time=0.16 sec\n",
      " ARIMA(2,0,0)(0,0,0)[12] intercept   : AIC=196.913, Time=0.06 sec\n",
      " ARIMA(2,0,0)(0,0,1)[12] intercept   : AIC=inf, Time=0.14 sec\n",
      " ARIMA(2,0,0)(0,0,2)[12] intercept   : AIC=inf, Time=0.24 sec\n",
      " ARIMA(2,0,0)(0,0,3)[12] intercept   : AIC=202.034, Time=0.57 sec\n",
      " ARIMA(2,0,0)(1,0,0)[12] intercept   : AIC=inf, Time=0.23 sec\n",
      " ARIMA(2,0,0)(1,0,1)[12] intercept   : AIC=inf, Time=0.28 sec\n",
      " ARIMA(2,0,0)(1,0,2)[12] intercept   : AIC=200.866, Time=0.39 sec\n",
      " ARIMA(2,0,0)(2,0,0)[12] intercept   : AIC=inf, Time=0.54 sec\n",
      " ARIMA(2,0,0)(2,0,1)[12] intercept   : AIC=195.820, Time=0.51 sec\n",
      " ARIMA(2,0,0)(3,0,0)[12] intercept   : AIC=inf, Time=0.92 sec\n",
      " ARIMA(2,0,1)(0,0,0)[12] intercept   : AIC=inf, Time=0.11 sec\n",
      " ARIMA(2,0,1)(0,0,1)[12] intercept   : AIC=197.913, Time=0.21 sec\n",
      " ARIMA(2,0,1)(0,0,2)[12] intercept   : AIC=inf, Time=0.32 sec\n",
      " ARIMA(2,0,1)(1,0,0)[12] intercept   : AIC=inf, Time=0.26 sec\n",
      " ARIMA(2,0,1)(1,0,1)[12] intercept   : AIC=inf, Time=0.33 sec\n",
      " ARIMA(2,0,1)(2,0,0)[12] intercept   : AIC=inf, Time=0.43 sec\n",
      " ARIMA(2,0,2)(0,0,0)[12] intercept   : AIC=inf, Time=0.18 sec\n",
      " ARIMA(2,0,2)(0,0,1)[12] intercept   : AIC=inf, Time=0.20 sec\n",
      " ARIMA(2,0,2)(1,0,0)[12] intercept   : AIC=inf, Time=0.25 sec\n",
      " ARIMA(2,0,3)(0,0,0)[12] intercept   : AIC=inf, Time=0.18 sec\n",
      " ARIMA(3,0,0)(0,0,0)[12] intercept   : AIC=198.327, Time=0.08 sec\n",
      " ARIMA(3,0,0)(0,0,1)[12] intercept   : AIC=200.147, Time=0.17 sec\n",
      " ARIMA(3,0,0)(0,0,2)[12] intercept   : AIC=201.815, Time=0.29 sec\n",
      " ARIMA(3,0,0)(1,0,0)[12] intercept   : AIC=inf, Time=0.25 sec\n",
      " ARIMA(3,0,0)(1,0,1)[12] intercept   : AIC=inf, Time=0.26 sec\n",
      " ARIMA(3,0,0)(2,0,0)[12] intercept   : AIC=inf, Time=0.47 sec\n",
      " ARIMA(3,0,1)(0,0,0)[12] intercept   : AIC=inf, Time=0.18 sec\n",
      " ARIMA(3,0,1)(0,0,1)[12] intercept   : AIC=inf, Time=0.23 sec\n",
      " ARIMA(3,0,1)(1,0,0)[12] intercept   : AIC=inf, Time=0.25 sec\n",
      " ARIMA(3,0,2)(0,0,0)[12] intercept   : AIC=inf, Time=0.13 sec\n",
      " ARIMA(4,0,0)(0,0,0)[12] intercept   : AIC=199.918, Time=0.10 sec\n",
      " ARIMA(4,0,0)(0,0,1)[12] intercept   : AIC=inf, Time=0.20 sec\n",
      " ARIMA(4,0,0)(1,0,0)[12] intercept   : AIC=200.421, Time=0.23 sec\n",
      " ARIMA(4,0,1)(0,0,0)[12] intercept   : AIC=198.878, Time=0.14 sec\n",
      " ARIMA(5,0,0)(0,0,0)[12] intercept   : AIC=201.571, Time=0.15 sec\n",
      "\n",
      "Best model:  ARIMA(1,0,0)(2,0,1)[12] intercept\n",
      "Total fit time: 47.163 seconds\n"
     ]
    },
    {
     "data": {
      "text/plain": [
       "ARIMA(order=(1, 0, 0), scoring_args={}, seasonal_order=(2, 0, 1, 12),\n",
       "      suppress_warnings=True)"
      ]
     },
     "execution_count": 31,
     "metadata": {},
     "output_type": "execute_result"
    }
   ],
   "source": [
    "model_auto_arima = auto_arima(train['Diff_1_12'], trace=True, suppress_warnings=True,start_p=0, start_q=0, \n",
    "                              start_P=0, start_Q=0, max_p=10, max_q=10, max_P=10, max_Q=10, seasonal=True,m=12,\n",
    "                              stepwise=False, D=0,d=0, max_D=10,error_action='ignore',approximation = False)\n",
    "model_auto_arima.fit(train['Diff_1_12'])"
   ]
  },
  {
   "cell_type": "code",
   "execution_count": 32,
   "id": "fcd2dff3",
   "metadata": {},
   "outputs": [
    {
     "data": {
      "text/html": [
       "<div>\n",
       "<style scoped>\n",
       "    .dataframe tbody tr th:only-of-type {\n",
       "        vertical-align: middle;\n",
       "    }\n",
       "\n",
       "    .dataframe tbody tr th {\n",
       "        vertical-align: top;\n",
       "    }\n",
       "\n",
       "    .dataframe thead th {\n",
       "        text-align: right;\n",
       "    }\n",
       "</style>\n",
       "<table border=\"1\" class=\"dataframe\">\n",
       "  <thead>\n",
       "    <tr style=\"text-align: right;\">\n",
       "      <th></th>\n",
       "      <th>Store</th>\n",
       "      <th>Dept</th>\n",
       "      <th>Monthly_Sales</th>\n",
       "      <th>IsHoliday</th>\n",
       "      <th>Temperature</th>\n",
       "      <th>Fuel_Price</th>\n",
       "      <th>MarkDown1</th>\n",
       "      <th>MarkDown2</th>\n",
       "      <th>MarkDown3</th>\n",
       "      <th>MarkDown4</th>\n",
       "      <th>MarkDown5</th>\n",
       "      <th>CPI</th>\n",
       "      <th>Unemployment</th>\n",
       "      <th>Size</th>\n",
       "    </tr>\n",
       "  </thead>\n",
       "  <tbody>\n",
       "    <tr>\n",
       "      <th>Store</th>\n",
       "      <td>1.000000</td>\n",
       "      <td>0.068862</td>\n",
       "      <td>-0.021460</td>\n",
       "      <td>-0.252861</td>\n",
       "      <td>0.520117</td>\n",
       "      <td>0.617694</td>\n",
       "      <td>0.150628</td>\n",
       "      <td>0.046078</td>\n",
       "      <td>-0.054947</td>\n",
       "      <td>0.130868</td>\n",
       "      <td>0.102862</td>\n",
       "      <td>0.462577</td>\n",
       "      <td>-0.426161</td>\n",
       "      <td>-0.628257</td>\n",
       "    </tr>\n",
       "    <tr>\n",
       "      <th>Dept</th>\n",
       "      <td>0.068862</td>\n",
       "      <td>1.000000</td>\n",
       "      <td>0.395792</td>\n",
       "      <td>0.062612</td>\n",
       "      <td>0.059348</td>\n",
       "      <td>0.233741</td>\n",
       "      <td>0.506374</td>\n",
       "      <td>0.551308</td>\n",
       "      <td>0.256707</td>\n",
       "      <td>0.451358</td>\n",
       "      <td>0.681702</td>\n",
       "      <td>0.480208</td>\n",
       "      <td>-0.484477</td>\n",
       "      <td>-0.295009</td>\n",
       "    </tr>\n",
       "    <tr>\n",
       "      <th>Monthly_Sales</th>\n",
       "      <td>-0.021460</td>\n",
       "      <td>0.395792</td>\n",
       "      <td>1.000000</td>\n",
       "      <td>0.466462</td>\n",
       "      <td>-0.160242</td>\n",
       "      <td>-0.107343</td>\n",
       "      <td>0.092370</td>\n",
       "      <td>0.181661</td>\n",
       "      <td>0.307826</td>\n",
       "      <td>0.054307</td>\n",
       "      <td>0.340639</td>\n",
       "      <td>0.019784</td>\n",
       "      <td>0.036347</td>\n",
       "      <td>-0.096781</td>\n",
       "    </tr>\n",
       "    <tr>\n",
       "      <th>IsHoliday</th>\n",
       "      <td>-0.252861</td>\n",
       "      <td>0.062612</td>\n",
       "      <td>0.466462</td>\n",
       "      <td>1.000000</td>\n",
       "      <td>-0.412480</td>\n",
       "      <td>-0.166582</td>\n",
       "      <td>0.295296</td>\n",
       "      <td>0.211659</td>\n",
       "      <td>0.326306</td>\n",
       "      <td>0.292968</td>\n",
       "      <td>0.323043</td>\n",
       "      <td>0.082123</td>\n",
       "      <td>-0.049803</td>\n",
       "      <td>0.000852</td>\n",
       "    </tr>\n",
       "    <tr>\n",
       "      <th>Temperature</th>\n",
       "      <td>0.520117</td>\n",
       "      <td>0.059348</td>\n",
       "      <td>-0.160242</td>\n",
       "      <td>-0.412480</td>\n",
       "      <td>1.000000</td>\n",
       "      <td>0.086489</td>\n",
       "      <td>-0.308252</td>\n",
       "      <td>-0.405353</td>\n",
       "      <td>-0.120904</td>\n",
       "      <td>-0.256619</td>\n",
       "      <td>-0.405031</td>\n",
       "      <td>-0.142535</td>\n",
       "      <td>0.173824</td>\n",
       "      <td>0.068990</td>\n",
       "    </tr>\n",
       "    <tr>\n",
       "      <th>Fuel_Price</th>\n",
       "      <td>0.617694</td>\n",
       "      <td>0.233741</td>\n",
       "      <td>-0.107343</td>\n",
       "      <td>-0.166582</td>\n",
       "      <td>0.086489</td>\n",
       "      <td>1.000000</td>\n",
       "      <td>0.287396</td>\n",
       "      <td>0.158601</td>\n",
       "      <td>0.119349</td>\n",
       "      <td>0.232890</td>\n",
       "      <td>0.250599</td>\n",
       "      <td>0.792641</td>\n",
       "      <td>-0.705852</td>\n",
       "      <td>-0.692310</td>\n",
       "    </tr>\n",
       "    <tr>\n",
       "      <th>MarkDown1</th>\n",
       "      <td>0.150628</td>\n",
       "      <td>0.506374</td>\n",
       "      <td>0.092370</td>\n",
       "      <td>0.295296</td>\n",
       "      <td>-0.308252</td>\n",
       "      <td>0.287396</td>\n",
       "      <td>1.000000</td>\n",
       "      <td>0.532100</td>\n",
       "      <td>0.178631</td>\n",
       "      <td>0.969332</td>\n",
       "      <td>0.765611</td>\n",
       "      <td>0.632488</td>\n",
       "      <td>-0.690663</td>\n",
       "      <td>-0.474152</td>\n",
       "    </tr>\n",
       "    <tr>\n",
       "      <th>MarkDown2</th>\n",
       "      <td>0.046078</td>\n",
       "      <td>0.551308</td>\n",
       "      <td>0.181661</td>\n",
       "      <td>0.211659</td>\n",
       "      <td>-0.405353</td>\n",
       "      <td>0.158601</td>\n",
       "      <td>0.532100</td>\n",
       "      <td>1.000000</td>\n",
       "      <td>0.178988</td>\n",
       "      <td>0.426163</td>\n",
       "      <td>0.869407</td>\n",
       "      <td>0.606782</td>\n",
       "      <td>-0.656769</td>\n",
       "      <td>-0.538214</td>\n",
       "    </tr>\n",
       "    <tr>\n",
       "      <th>MarkDown3</th>\n",
       "      <td>-0.054947</td>\n",
       "      <td>0.256707</td>\n",
       "      <td>0.307826</td>\n",
       "      <td>0.326306</td>\n",
       "      <td>-0.120904</td>\n",
       "      <td>0.119349</td>\n",
       "      <td>0.178631</td>\n",
       "      <td>0.178988</td>\n",
       "      <td>1.000000</td>\n",
       "      <td>0.037618</td>\n",
       "      <td>0.280209</td>\n",
       "      <td>0.266060</td>\n",
       "      <td>-0.254675</td>\n",
       "      <td>-0.173988</td>\n",
       "    </tr>\n",
       "    <tr>\n",
       "      <th>MarkDown4</th>\n",
       "      <td>0.130868</td>\n",
       "      <td>0.451358</td>\n",
       "      <td>0.054307</td>\n",
       "      <td>0.292968</td>\n",
       "      <td>-0.256619</td>\n",
       "      <td>0.232890</td>\n",
       "      <td>0.969332</td>\n",
       "      <td>0.426163</td>\n",
       "      <td>0.037618</td>\n",
       "      <td>1.000000</td>\n",
       "      <td>0.655702</td>\n",
       "      <td>0.512205</td>\n",
       "      <td>-0.568134</td>\n",
       "      <td>-0.354935</td>\n",
       "    </tr>\n",
       "    <tr>\n",
       "      <th>MarkDown5</th>\n",
       "      <td>0.102862</td>\n",
       "      <td>0.681702</td>\n",
       "      <td>0.340639</td>\n",
       "      <td>0.323043</td>\n",
       "      <td>-0.405031</td>\n",
       "      <td>0.250599</td>\n",
       "      <td>0.765611</td>\n",
       "      <td>0.869407</td>\n",
       "      <td>0.280209</td>\n",
       "      <td>0.655702</td>\n",
       "      <td>1.000000</td>\n",
       "      <td>0.700966</td>\n",
       "      <td>-0.728270</td>\n",
       "      <td>-0.616252</td>\n",
       "    </tr>\n",
       "    <tr>\n",
       "      <th>CPI</th>\n",
       "      <td>0.462577</td>\n",
       "      <td>0.480208</td>\n",
       "      <td>0.019784</td>\n",
       "      <td>0.082123</td>\n",
       "      <td>-0.142535</td>\n",
       "      <td>0.792641</td>\n",
       "      <td>0.632488</td>\n",
       "      <td>0.606782</td>\n",
       "      <td>0.266060</td>\n",
       "      <td>0.512205</td>\n",
       "      <td>0.700966</td>\n",
       "      <td>1.000000</td>\n",
       "      <td>-0.972655</td>\n",
       "      <td>-0.867585</td>\n",
       "    </tr>\n",
       "    <tr>\n",
       "      <th>Unemployment</th>\n",
       "      <td>-0.426161</td>\n",
       "      <td>-0.484477</td>\n",
       "      <td>0.036347</td>\n",
       "      <td>-0.049803</td>\n",
       "      <td>0.173824</td>\n",
       "      <td>-0.705852</td>\n",
       "      <td>-0.690663</td>\n",
       "      <td>-0.656769</td>\n",
       "      <td>-0.254675</td>\n",
       "      <td>-0.568134</td>\n",
       "      <td>-0.728270</td>\n",
       "      <td>-0.972655</td>\n",
       "      <td>1.000000</td>\n",
       "      <td>0.841264</td>\n",
       "    </tr>\n",
       "    <tr>\n",
       "      <th>Size</th>\n",
       "      <td>-0.628257</td>\n",
       "      <td>-0.295009</td>\n",
       "      <td>-0.096781</td>\n",
       "      <td>0.000852</td>\n",
       "      <td>0.068990</td>\n",
       "      <td>-0.692310</td>\n",
       "      <td>-0.474152</td>\n",
       "      <td>-0.538214</td>\n",
       "      <td>-0.173988</td>\n",
       "      <td>-0.354935</td>\n",
       "      <td>-0.616252</td>\n",
       "      <td>-0.867585</td>\n",
       "      <td>0.841264</td>\n",
       "      <td>1.000000</td>\n",
       "    </tr>\n",
       "  </tbody>\n",
       "</table>\n",
       "</div>"
      ],
      "text/plain": [
       "                  Store      Dept  Monthly_Sales  IsHoliday  Temperature  \\\n",
       "Store          1.000000  0.068862      -0.021460  -0.252861     0.520117   \n",
       "Dept           0.068862  1.000000       0.395792   0.062612     0.059348   \n",
       "Monthly_Sales -0.021460  0.395792       1.000000   0.466462    -0.160242   \n",
       "IsHoliday     -0.252861  0.062612       0.466462   1.000000    -0.412480   \n",
       "Temperature    0.520117  0.059348      -0.160242  -0.412480     1.000000   \n",
       "Fuel_Price     0.617694  0.233741      -0.107343  -0.166582     0.086489   \n",
       "MarkDown1      0.150628  0.506374       0.092370   0.295296    -0.308252   \n",
       "MarkDown2      0.046078  0.551308       0.181661   0.211659    -0.405353   \n",
       "MarkDown3     -0.054947  0.256707       0.307826   0.326306    -0.120904   \n",
       "MarkDown4      0.130868  0.451358       0.054307   0.292968    -0.256619   \n",
       "MarkDown5      0.102862  0.681702       0.340639   0.323043    -0.405031   \n",
       "CPI            0.462577  0.480208       0.019784   0.082123    -0.142535   \n",
       "Unemployment  -0.426161 -0.484477       0.036347  -0.049803     0.173824   \n",
       "Size          -0.628257 -0.295009      -0.096781   0.000852     0.068990   \n",
       "\n",
       "               Fuel_Price  MarkDown1  MarkDown2  MarkDown3  MarkDown4  \\\n",
       "Store            0.617694   0.150628   0.046078  -0.054947   0.130868   \n",
       "Dept             0.233741   0.506374   0.551308   0.256707   0.451358   \n",
       "Monthly_Sales   -0.107343   0.092370   0.181661   0.307826   0.054307   \n",
       "IsHoliday       -0.166582   0.295296   0.211659   0.326306   0.292968   \n",
       "Temperature      0.086489  -0.308252  -0.405353  -0.120904  -0.256619   \n",
       "Fuel_Price       1.000000   0.287396   0.158601   0.119349   0.232890   \n",
       "MarkDown1        0.287396   1.000000   0.532100   0.178631   0.969332   \n",
       "MarkDown2        0.158601   0.532100   1.000000   0.178988   0.426163   \n",
       "MarkDown3        0.119349   0.178631   0.178988   1.000000   0.037618   \n",
       "MarkDown4        0.232890   0.969332   0.426163   0.037618   1.000000   \n",
       "MarkDown5        0.250599   0.765611   0.869407   0.280209   0.655702   \n",
       "CPI              0.792641   0.632488   0.606782   0.266060   0.512205   \n",
       "Unemployment    -0.705852  -0.690663  -0.656769  -0.254675  -0.568134   \n",
       "Size            -0.692310  -0.474152  -0.538214  -0.173988  -0.354935   \n",
       "\n",
       "               MarkDown5       CPI  Unemployment      Size  \n",
       "Store           0.102862  0.462577     -0.426161 -0.628257  \n",
       "Dept            0.681702  0.480208     -0.484477 -0.295009  \n",
       "Monthly_Sales   0.340639  0.019784      0.036347 -0.096781  \n",
       "IsHoliday       0.323043  0.082123     -0.049803  0.000852  \n",
       "Temperature    -0.405031 -0.142535      0.173824  0.068990  \n",
       "Fuel_Price      0.250599  0.792641     -0.705852 -0.692310  \n",
       "MarkDown1       0.765611  0.632488     -0.690663 -0.474152  \n",
       "MarkDown2       0.869407  0.606782     -0.656769 -0.538214  \n",
       "MarkDown3       0.280209  0.266060     -0.254675 -0.173988  \n",
       "MarkDown4       0.655702  0.512205     -0.568134 -0.354935  \n",
       "MarkDown5       1.000000  0.700966     -0.728270 -0.616252  \n",
       "CPI             0.700966  1.000000     -0.972655 -0.867585  \n",
       "Unemployment   -0.728270 -0.972655      1.000000  0.841264  \n",
       "Size           -0.616252 -0.867585      0.841264  1.000000  "
      ]
     },
     "execution_count": 32,
     "metadata": {},
     "output_type": "execute_result"
    }
   ],
   "source": [
    "train_df.corr()"
   ]
  },
  {
   "cell_type": "code",
   "execution_count": 33,
   "id": "dad581c8",
   "metadata": {},
   "outputs": [
    {
     "data": {
      "text/plain": [
       "<AxesSubplot:>"
      ]
     },
     "execution_count": 33,
     "metadata": {},
     "output_type": "execute_result"
    },
    {
     "data": {
      "image/png": "[encoded data removed]",
      "text/plain": [
       "<Figure size 432x288 with 2 Axes>"
      ]
     },
     "metadata": {
      "needs_background": "light"
     },
     "output_type": "display_data"
    }
   ],
   "source": [
    "sns.heatmap(train_df.corr())"
   ]
  },
  {
   "cell_type": "code",
   "execution_count": 34,
   "id": "ace2749f",
   "metadata": {},
   "outputs": [],
   "source": [
    "train = train['Monthly_Sales']"
   ]
  },
  {
   "cell_type": "code",
   "execution_count": 35,
   "id": "18931a72",
   "metadata": {},
   "outputs": [
    {
     "name": "stderr",
     "output_type": "stream",
     "text": [
      " This problem is unconstrained.\n"
     ]
    },
    {
     "name": "stdout",
     "output_type": "stream",
     "text": [
      "RUNNING THE L-BFGS-B CODE\n",
      "\n",
      "           * * *\n",
      "\n",
      "Machine precision = 2.220D-16\n",
      " N =            5     M =           10\n",
      "\n",
      "At X0         0 variables are exactly at the bounds\n",
      "\n",
      "At iterate    0    f=  3.71903D+00    |proj g|=  2.02892D-01\n",
      "\n",
      "At iterate    5    f=  3.67527D+00    |proj g|=  6.57815D-03\n",
      "\n",
      "At iterate   10    f=  3.67510D+00    |proj g|=  5.76812D-03\n",
      "\n",
      "At iterate   15    f=  3.67500D+00    |proj g|=  2.93109D-04\n",
      "\n",
      "At iterate   20    f=  3.67498D+00    |proj g|=  2.72244D-03\n",
      "\n",
      "At iterate   25    f=  3.67357D+00    |proj g|=  1.58811D-02\n",
      "\n",
      "At iterate   30    f=  3.66247D+00    |proj g|=  2.90945D-02\n",
      "\n",
      "At iterate   35    f=  3.64577D+00    |proj g|=  2.44557D-02\n",
      "\n",
      "At iterate   40    f=  3.64243D+00    |proj g|=  1.91238D-02\n",
      "\n",
      "At iterate   45    f=  3.64079D+00    |proj g|=  2.27027D-03\n",
      "\n",
      "At iterate   50    f=  3.64017D+00    |proj g|=  3.44835D-03\n",
      "\n",
      "           * * *\n",
      "\n",
      "Tit   = total number of iterations\n",
      "Tnf   = total number of function evaluations\n",
      "Tnint = total number of segments explored during Cauchy searches\n",
      "Skip  = number of BFGS updates skipped\n",
      "Nact  = number of active bounds at final generalized Cauchy point\n",
      "Projg = norm of the final projected gradient\n",
      "F     = final function value\n",
      "\n",
      "           * * *\n",
      "\n",
      "   N    Tit     Tnf  Tnint  Skip  Nact     Projg        F\n",
      "    5     50     65      1     0     0   3.448D-03   3.640D+00\n",
      "  F =   3.6401700108518020     \n",
      "\n",
      "STOP: TOTAL NO. of ITERATIONS REACHED LIMIT                 \n"
     ]
    },
    {
     "data": {
      "text/html": [
       "<table class=\"simpletable\">\n",
       "<caption>SARIMAX Results</caption>\n",
       "<tr>\n",
       "  <th>Dep. Variable:</th>             <td>Monthly_Sales</td>          <th>  No. Observations:  </th>   <td>26</td>   \n",
       "</tr>\n",
       "<tr>\n",
       "  <th>Model:</th>           <td>SARIMAX(1, 1, 0)x(2, 1, [1], 12)</td> <th>  Log Likelihood     </th> <td>-94.644</td>\n",
       "</tr>\n",
       "<tr>\n",
       "  <th>Date:</th>                    <td>Thu, 24 Mar 2022</td>         <th>  AIC                </th> <td>199.289</td>\n",
       "</tr>\n",
       "<tr>\n",
       "  <th>Time:</th>                        <td>18:49:41</td>             <th>  BIC                </th> <td>202.114</td>\n",
       "</tr>\n",
       "<tr>\n",
       "  <th>Sample:</th>                     <td>02-01-2010</td>            <th>  HQIC               </th> <td>198.708</td>\n",
       "</tr>\n",
       "<tr>\n",
       "  <th></th>                           <td>- 03-01-2012</td>           <th>                     </th>    <td> </td>   \n",
       "</tr>\n",
       "<tr>\n",
       "  <th>Covariance Type:</th>                <td>opg</td>               <th>                     </th>    <td> </td>   \n",
       "</tr>\n",
       "</table>\n",
       "<table class=\"simpletable\">\n",
       "<tr>\n",
       "      <td></td>        <th>coef</th>     <th>std err</th>      <th>z</th>      <th>P>|z|</th>  <th>[0.025</th>    <th>0.975]</th>  \n",
       "</tr>\n",
       "<tr>\n",
       "  <th>ar.L1</th>    <td>   -0.1619</td> <td>    0.295</td> <td>   -0.550</td> <td> 0.583</td> <td>   -0.739</td> <td>    0.415</td>\n",
       "</tr>\n",
       "<tr>\n",
       "  <th>ar.S.L12</th> <td>   -0.6850</td> <td>    4.404</td> <td>   -0.156</td> <td> 0.876</td> <td>   -9.317</td> <td>    7.947</td>\n",
       "</tr>\n",
       "<tr>\n",
       "  <th>ar.S.L24</th> <td>   -0.9623</td> <td>    3.585</td> <td>   -0.268</td> <td> 0.788</td> <td>   -7.988</td> <td>    6.063</td>\n",
       "</tr>\n",
       "<tr>\n",
       "  <th>ma.S.L12</th> <td>   -0.9305</td> <td>   94.251</td> <td>   -0.010</td> <td> 0.992</td> <td> -185.660</td> <td>  183.799</td>\n",
       "</tr>\n",
       "<tr>\n",
       "  <th>sigma2</th>   <td> 3725.5472</td> <td>    0.025</td> <td> 1.46e+05</td> <td> 0.000</td> <td> 3725.497</td> <td> 3725.597</td>\n",
       "</tr>\n",
       "</table>\n",
       "<table class=\"simpletable\">\n",
       "<tr>\n",
       "  <th>Ljung-Box (L1) (Q):</th>     <td>0.78</td> <th>  Jarque-Bera (JB):  </th> <td>0.56</td>\n",
       "</tr>\n",
       "<tr>\n",
       "  <th>Prob(Q):</th>                <td>0.38</td> <th>  Prob(JB):          </th> <td>0.76</td>\n",
       "</tr>\n",
       "<tr>\n",
       "  <th>Heteroskedasticity (H):</th> <td>2.20</td> <th>  Skew:              </th> <td>0.45</td>\n",
       "</tr>\n",
       "<tr>\n",
       "  <th>Prob(H) (two-sided):</th>    <td>0.46</td> <th>  Kurtosis:          </th> <td>3.46</td>\n",
       "</tr>\n",
       "</table><br/><br/>Warnings:<br/>[1] Covariance matrix calculated using the outer product of gradients (complex-step).<br/>[2] Covariance matrix is singular or near-singular, with condition number 1.49e+23. Standard errors may be unstable."
      ],
      "text/plain": [
       "<class 'statsmodels.iolib.summary.Summary'>\n",
       "\"\"\"\n",
       "                                      SARIMAX Results                                       \n",
       "============================================================================================\n",
       "Dep. Variable:                        Monthly_Sales   No. Observations:                   26\n",
       "Model:             SARIMAX(1, 1, 0)x(2, 1, [1], 12)   Log Likelihood                 -94.644\n",
       "Date:                              Thu, 24 Mar 2022   AIC                            199.289\n",
       "Time:                                      18:49:41   BIC                            202.114\n",
       "Sample:                                  02-01-2010   HQIC                           198.708\n",
       "                                       - 03-01-2012                                         \n",
       "Covariance Type:                                opg                                         \n",
       "==============================================================================\n",
       "                 coef    std err          z      P>|z|      [0.025      0.975]\n",
       "------------------------------------------------------------------------------\n",
       "ar.L1         -0.1619      0.295     -0.550      0.583      -0.739       0.415\n",
       "ar.S.L12      -0.6850      4.404     -0.156      0.876      -9.317       7.947\n",
       "ar.S.L24      -0.9623      3.585     -0.268      0.788      -7.988       6.063\n",
       "ma.S.L12      -0.9305     94.251     -0.010      0.992    -185.660     183.799\n",
       "sigma2      3725.5472      0.025   1.46e+05      0.000    3725.497    3725.597\n",
       "===================================================================================\n",
       "Ljung-Box (L1) (Q):                   0.78   Jarque-Bera (JB):                 0.56\n",
       "Prob(Q):                              0.38   Prob(JB):                         0.76\n",
       "Heteroskedasticity (H):               2.20   Skew:                             0.45\n",
       "Prob(H) (two-sided):                  0.46   Kurtosis:                         3.46\n",
       "===================================================================================\n",
       "\n",
       "Warnings:\n",
       "[1] Covariance matrix calculated using the outer product of gradients (complex-step).\n",
       "[2] Covariance matrix is singular or near-singular, with condition number 1.49e+23. Standard errors may be unstable.\n",
       "\"\"\""
      ]
     },
     "execution_count": 35,
     "metadata": {},
     "output_type": "execute_result"
    }
   ],
   "source": [
    "model_SARIMA = SARIMAX(train,order=(1,1,0),seasonal_order=(2,1,1,12))\n",
    "model_SARIMA_fit = model_SARIMA.fit()\n",
    "model_SARIMA_fit.summary()"
   ]
  },
  {
   "cell_type": "code",
   "execution_count": 36,
   "id": "5563cf9a",
   "metadata": {},
   "outputs": [
    {
     "data": {
      "text/html": [
       "<div>\n",
       "<style scoped>\n",
       "    .dataframe tbody tr th:only-of-type {\n",
       "        vertical-align: middle;\n",
       "    }\n",
       "\n",
       "    .dataframe tbody tr th {\n",
       "        vertical-align: top;\n",
       "    }\n",
       "\n",
       "    .dataframe thead th {\n",
       "        text-align: right;\n",
       "    }\n",
       "</style>\n",
       "<table border=\"1\" class=\"dataframe\">\n",
       "  <thead>\n",
       "    <tr style=\"text-align: right;\">\n",
       "      <th></th>\n",
       "      <th>lb_stat</th>\n",
       "      <th>lb_pvalue</th>\n",
       "    </tr>\n",
       "  </thead>\n",
       "  <tbody>\n",
       "    <tr>\n",
       "      <th>12</th>\n",
       "      <td>9.321307</td>\n",
       "      <td>0.675269</td>\n",
       "    </tr>\n",
       "  </tbody>\n",
       "</table>\n",
       "</div>"
      ],
      "text/plain": [
       "     lb_stat  lb_pvalue\n",
       "12  9.321307   0.675269"
      ]
     },
     "execution_count": 36,
     "metadata": {},
     "output_type": "execute_result"
    }
   ],
   "source": [
    "sms.stats.acorr_ljungbox(model_SARIMA_fit.resid, lags=[12], return_df=True)"
   ]
  },
  {
   "cell_type": "code",
   "execution_count": 37,
   "id": "bdc887e1",
   "metadata": {},
   "outputs": [
    {
     "data": {
      "image/png": "[encoded data removed]",
      "text/plain": [
       "<Figure size 1440x432 with 1 Axes>"
      ]
     },
     "metadata": {
      "needs_background": "light"
     },
     "output_type": "display_data"
    }
   ],
   "source": [
    "# Predicting the test values using predict function.\n",
    "forecast = model_SARIMA_fit.forecast(steps=len(test))\n",
    "forecast = forecast.to_frame()\n",
    "plt.figure(figsize=(20,6))\n",
    "plt.title('Prediction of Monthly Sales using Auto ARIMA model', fontsize=20)\n",
    "plt.plot(train, label='Train')\n",
    "plt.plot(test, label='Test')\n",
    "plt.plot(forecast, label='Prediction using ARIMA Model')\n",
    "plt.legend(loc='best')\n",
    "plt.xlabel('Date', fontsize=14)\n",
    "plt.ylabel('Monthly Sales', fontsize=14)\n",
    "plt.show()"
   ]
  },
  {
   "cell_type": "code",
   "execution_count": 37,
   "id": "d8f72b9c",
   "metadata": {},
   "outputs": [
    {
     "data": {
      "text/plain": [
       "25479.34212216421"
      ]
     },
     "execution_count": 37,
     "metadata": {},
     "output_type": "execute_result"
    }
   ],
   "source": [
    "mse = mean_squared_error(test,forecast)\n",
    "mse"
   ]
  },
  {
   "cell_type": "code",
   "execution_count": 38,
   "id": "7808b248",
   "metadata": {},
   "outputs": [
    {
     "name": "stdout",
     "output_type": "stream",
     "text": [
      "RUNNING THE L-BFGS-B CODE\n",
      "\n",
      "           * * *\n",
      "\n",
      "Machine precision = 2.220D-16\n",
      " N =            5     M =           10\n",
      "\n",
      "At X0         0 variables are exactly at the bounds\n",
      "\n",
      "At iterate    0    f=  3.69320D+00    |proj g|=  2.34942D-01\n",
      "\n",
      "At iterate    5    f=  3.68540D+00    |proj g|=  1.98571D-03\n",
      "\n",
      "At iterate   10    f=  3.68525D+00    |proj g|=  6.43999D-02\n",
      "\n",
      "At iterate   15    f=  3.68418D+00    |proj g|=  1.13261D-02\n",
      "\n",
      "At iterate   20    f=  3.68323D+00    |proj g|=  5.99820D-03\n",
      "\n",
      "At iterate   25    f=  3.68283D+00    |proj g|=  4.27634D-03\n",
      "\n",
      "At iterate   30    f=  3.68258D+00    |proj g|=  1.05952D-04\n",
      "\n",
      "At iterate   35    f=  3.68257D+00    |proj g|=  1.60124D-04\n",
      "\n",
      "           * * *\n",
      "\n",
      "Tit   = total number of iterations\n",
      "Tnf   = total number of function evaluations\n",
      "Tnint = total number of segments explored during Cauchy searches\n",
      "Skip  = number of BFGS updates skipped\n",
      "Nact  = number of active bounds at final generalized Cauchy point\n",
      "Projg = norm of the final projected gradient\n",
      "F     = final function value\n",
      "\n",
      "           * * *\n",
      "\n",
      "   N    Tit     Tnf  Tnint  Skip  Nact     Projg        F\n",
      "    5     35     42      1     0     0   1.601D-04   3.683D+00\n",
      "  F =   3.6825692120048354     \n",
      "\n",
      "CONVERGENCE: REL_REDUCTION_OF_F_<=_FACTR*EPSMCH             \n"
     ]
    },
    {
     "name": "stderr",
     "output_type": "stream",
     "text": [
      " This problem is unconstrained.\n"
     ]
    },
    {
     "data": {
      "text/html": [
       "<table class=\"simpletable\">\n",
       "<caption>SARIMAX Results</caption>\n",
       "<tr>\n",
       "  <th>Dep. Variable:</th>             <td>Monthly_Sales</td>          <th>  No. Observations:  </th>   <td>26</td>   \n",
       "</tr>\n",
       "<tr>\n",
       "  <th>Model:</th>           <td>SARIMAX(0, 1, 0)x(1, 1, [1], 12)</td> <th>  Log Likelihood     </th> <td>-95.747</td>\n",
       "</tr>\n",
       "<tr>\n",
       "  <th>Date:</th>                    <td>Mon, 21 Mar 2022</td>         <th>  AIC                </th> <td>201.494</td>\n",
       "</tr>\n",
       "<tr>\n",
       "  <th>Time:</th>                        <td>00:53:49</td>             <th>  BIC                </th> <td>204.318</td>\n",
       "</tr>\n",
       "<tr>\n",
       "  <th>Sample:</th>                     <td>02-01-2010</td>            <th>  HQIC               </th> <td>200.913</td>\n",
       "</tr>\n",
       "<tr>\n",
       "  <th></th>                           <td>- 03-01-2012</td>           <th>                     </th>    <td> </td>   \n",
       "</tr>\n",
       "<tr>\n",
       "  <th>Covariance Type:</th>                <td>opg</td>               <th>                     </th>    <td> </td>   \n",
       "</tr>\n",
       "</table>\n",
       "<table class=\"simpletable\">\n",
       "<tr>\n",
       "      <td></td>         <th>coef</th>     <th>std err</th>      <th>z</th>      <th>P>|z|</th>  <th>[0.025</th>    <th>0.975]</th>  \n",
       "</tr>\n",
       "<tr>\n",
       "  <th>Dept</th>      <td> -432.3524</td> <td>  612.413</td> <td>   -0.706</td> <td> 0.480</td> <td>-1632.660</td> <td>  767.955</td>\n",
       "</tr>\n",
       "<tr>\n",
       "  <th>MarkDown3</th> <td>    0.0124</td> <td>    0.016</td> <td>    0.764</td> <td> 0.445</td> <td>   -0.019</td> <td>    0.044</td>\n",
       "</tr>\n",
       "<tr>\n",
       "  <th>ar.S.L12</th>  <td>    0.8360</td> <td>    0.587</td> <td>    1.423</td> <td> 0.155</td> <td>   -0.315</td> <td>    1.987</td>\n",
       "</tr>\n",
       "<tr>\n",
       "  <th>ma.S.L12</th>  <td>   -0.9802</td> <td>    0.724</td> <td>   -1.355</td> <td> 0.176</td> <td>   -2.398</td> <td>    0.438</td>\n",
       "</tr>\n",
       "<tr>\n",
       "  <th>sigma2</th>    <td> 1.389e+05</td> <td>    0.022</td> <td> 6.37e+06</td> <td> 0.000</td> <td> 1.39e+05</td> <td> 1.39e+05</td>\n",
       "</tr>\n",
       "</table>\n",
       "<table class=\"simpletable\">\n",
       "<tr>\n",
       "  <th>Ljung-Box (L1) (Q):</th>     <td>2.32</td> <th>  Jarque-Bera (JB):  </th> <td>1.05</td>\n",
       "</tr>\n",
       "<tr>\n",
       "  <th>Prob(Q):</th>                <td>0.13</td> <th>  Prob(JB):          </th> <td>0.59</td>\n",
       "</tr>\n",
       "<tr>\n",
       "  <th>Heteroskedasticity (H):</th> <td>1.77</td> <th>  Skew:              </th> <td>0.68</td>\n",
       "</tr>\n",
       "<tr>\n",
       "  <th>Prob(H) (two-sided):</th>    <td>0.60</td> <th>  Kurtosis:          </th> <td>2.75</td>\n",
       "</tr>\n",
       "</table><br/><br/>Warnings:<br/>[1] Covariance matrix calculated using the outer product of gradients (complex-step).<br/>[2] Covariance matrix is singular or near-singular, with condition number 2.93e+24. Standard errors may be unstable."
      ],
      "text/plain": [
       "<class 'statsmodels.iolib.summary.Summary'>\n",
       "\"\"\"\n",
       "                                      SARIMAX Results                                       \n",
       "============================================================================================\n",
       "Dep. Variable:                        Monthly_Sales   No. Observations:                   26\n",
       "Model:             SARIMAX(0, 1, 0)x(1, 1, [1], 12)   Log Likelihood                 -95.747\n",
       "Date:                              Mon, 21 Mar 2022   AIC                            201.494\n",
       "Time:                                      00:53:49   BIC                            204.318\n",
       "Sample:                                  02-01-2010   HQIC                           200.913\n",
       "                                       - 03-01-2012                                         \n",
       "Covariance Type:                                opg                                         \n",
       "==============================================================================\n",
       "                 coef    std err          z      P>|z|      [0.025      0.975]\n",
       "------------------------------------------------------------------------------\n",
       "Dept        -432.3524    612.413     -0.706      0.480   -1632.660     767.955\n",
       "MarkDown3      0.0124      0.016      0.764      0.445      -0.019       0.044\n",
       "ar.S.L12       0.8360      0.587      1.423      0.155      -0.315       1.987\n",
       "ma.S.L12      -0.9802      0.724     -1.355      0.176      -2.398       0.438\n",
       "sigma2      1.389e+05      0.022   6.37e+06      0.000    1.39e+05    1.39e+05\n",
       "===================================================================================\n",
       "Ljung-Box (L1) (Q):                   2.32   Jarque-Bera (JB):                 1.05\n",
       "Prob(Q):                              0.13   Prob(JB):                         0.59\n",
       "Heteroskedasticity (H):               1.77   Skew:                             0.68\n",
       "Prob(H) (two-sided):                  0.60   Kurtosis:                         2.75\n",
       "===================================================================================\n",
       "\n",
       "Warnings:\n",
       "[1] Covariance matrix calculated using the outer product of gradients (complex-step).\n",
       "[2] Covariance matrix is singular or near-singular, with condition number 2.93e+24. Standard errors may be unstable.\n",
       "\"\"\""
      ]
     },
     "execution_count": 38,
     "metadata": {},
     "output_type": "execute_result"
    }
   ],
   "source": [
    "model_SARIMA = SARIMAX(train,order=(0,1,0),seasonal_order=(1,1,1,12),exog = train_df[['Dept','MarkDown3']])\n",
    "model_SARIMA_fit = model_SARIMA.fit()\n",
    "model_SARIMA_fit.summary()"
   ]
  },
  {
   "cell_type": "code",
   "execution_count": 39,
   "id": "04ccd457",
   "metadata": {},
   "outputs": [
    {
     "data": {
      "text/html": [
       "<div>\n",
       "<style scoped>\n",
       "    .dataframe tbody tr th:only-of-type {\n",
       "        vertical-align: middle;\n",
       "    }\n",
       "\n",
       "    .dataframe tbody tr th {\n",
       "        vertical-align: top;\n",
       "    }\n",
       "\n",
       "    .dataframe thead th {\n",
       "        text-align: right;\n",
       "    }\n",
       "</style>\n",
       "<table border=\"1\" class=\"dataframe\">\n",
       "  <thead>\n",
       "    <tr style=\"text-align: right;\">\n",
       "      <th></th>\n",
       "      <th>lb_stat</th>\n",
       "      <th>lb_pvalue</th>\n",
       "    </tr>\n",
       "  </thead>\n",
       "  <tbody>\n",
       "    <tr>\n",
       "      <th>12</th>\n",
       "      <td>8.448766</td>\n",
       "      <td>0.749152</td>\n",
       "    </tr>\n",
       "  </tbody>\n",
       "</table>\n",
       "</div>"
      ],
      "text/plain": [
       "     lb_stat  lb_pvalue\n",
       "12  8.448766   0.749152"
      ]
     },
     "execution_count": 39,
     "metadata": {},
     "output_type": "execute_result"
    }
   ],
   "source": [
    "sms.stats.acorr_ljungbox(model_SARIMA_fit.resid, lags=[12], return_df=True)"
   ]
  },
  {
   "cell_type": "code",
   "execution_count": 40,
   "id": "62d2b6a7",
   "metadata": {},
   "outputs": [],
   "source": [
    "forecast = model_SARIMA_fit.forecast(steps=len(test),exog=test_df[['Dept','MarkDown3']])"
   ]
  },
  {
   "cell_type": "code",
   "execution_count": 41,
   "id": "fabd7c0d",
   "metadata": {},
   "outputs": [
    {
     "data": {
      "image/png": "[encoded data removed]",
      "text/plain": [
       "<Figure size 1440x432 with 1 Axes>"
      ]
     },
     "metadata": {
      "needs_background": "light"
     },
     "output_type": "display_data"
    }
   ],
   "source": [
    "# Predicting the test values using predict function.\n",
    "forecast = forecast.to_frame()\n",
    "plt.figure(figsize=(20,6))\n",
    "plt.title('Prediction of Monthly Sales using Auto ARIMA model', fontsize=20)\n",
    "plt.plot(train, label='Train')\n",
    "plt.plot(test, label='Test')\n",
    "plt.plot(forecast, label='Prediction using ARIMA Model')\n",
    "plt.legend(loc='best')\n",
    "plt.xlabel('Date', fontsize=14)\n",
    "plt.ylabel('Monthly Sales', fontsize=14)\n",
    "plt.show()"
   ]
  },
  {
   "cell_type": "code",
   "execution_count": 42,
   "id": "bd70e042",
   "metadata": {},
   "outputs": [
    {
     "data": {
      "text/plain": [
       "58755.38975635078"
      ]
     },
     "execution_count": 42,
     "metadata": {},
     "output_type": "execute_result"
    }
   ],
   "source": [
    "mse = mean_squared_error(test,forecast)\n",
    "mse"
   ]
  },
  {
   "cell_type": "markdown",
   "id": "9f914aa7",
   "metadata": {},
   "source": [
    "## FB Prophet"
   ]
  },
  {
   "cell_type": "code",
   "execution_count": 43,
   "id": "98b6973e",
   "metadata": {},
   "outputs": [],
   "source": [
    "train = train.to_frame()\n",
    "train.reset_index(drop=False,inplace=True)\n",
    "train.rename(columns={'Date':'ds', 'Monthly_Sales':'y'}, inplace = True)"
   ]
  },
  {
   "cell_type": "code",
   "execution_count": null,
   "id": "fef90ca8",
   "metadata": {},
   "outputs": [
    {
     "name": "stderr",
     "output_type": "stream",
     "text": [
      "INFO:prophet:Disabling weekly seasonality. Run prophet with weekly_seasonality=True to override this.\n",
      "INFO:prophet:Disabling daily seasonality. Run prophet with daily_seasonality=True to override this.\n"
     ]
    }
   ],
   "source": [
    "m = Prophet(seasonality_mode = 'additive')\n",
    "m.fit(train)  # df is a pandas.DataFrame with 'y' and 'ds' columns"
   ]
  },
  {
   "cell_type": "code",
   "execution_count": null,
   "id": "239628b9",
   "metadata": {},
   "outputs": [],
   "source": [
    "future = m.make_future_dataframe(periods=7, freq='MS')\n",
    "forecast = m.predict(future)\n",
    "forecast_pred = forecast.tail(7)[['ds','yhat']]\n",
    "forecast_pred.set_index('ds', inplace=True)\n",
    "forecast_pred = forecast_pred['yhat']"
   ]
  },
  {
   "cell_type": "code",
   "execution_count": null,
   "id": "ec90fd79",
   "metadata": {},
   "outputs": [],
   "source": [
    "m.plot(forecast)"
   ]
  },
  {
   "cell_type": "code",
   "execution_count": null,
   "id": "244d177e",
   "metadata": {},
   "outputs": [],
   "source": [
    "# Predicting the test values using predict function.\n",
    "train = train_df['Monthly_Sales']\n",
    "forecast_pred = forecast_pred.to_frame()\n",
    "plt.figure(figsize=(20,6))\n",
    "plt.title('Prediction of Monthly Sales using FB Prophet', fontsize=20)\n",
    "plt.plot(train, label='Train')\n",
    "plt.plot(test, label='Test')\n",
    "plt.plot(forecast_pred, label='Prediction using FB Prophet')\n",
    "plt.legend(loc='best')\n",
    "plt.xlabel('Date', fontsize=14)\n",
    "plt.ylabel('Monthly Sales', fontsize=14)\n",
    "plt.show()"
   ]
  },
  {
   "cell_type": "code",
   "execution_count": null,
   "id": "274e6394",
   "metadata": {},
   "outputs": [],
   "source": [
    "mse = mean_squared_error(test,forecast_pred)\n",
    "mse"
   ]
  },
  {
   "cell_type": "code",
   "execution_count": null,
   "id": "72df0586",
   "metadata": {},
   "outputs": [],
   "source": []
  }
 ],
 "metadata": {
  "kernelspec": {
   "display_name": "Python 3 (ipykernel)",
   "language": "python",
   "name": "python3"
  },
  "language_info": {
   "codemirror_mode": {
    "name": "ipython",
    "version": 3
   },
   "file_extension": ".py",
   "mimetype": "text/x-python",
   "name": "python",
   "nbconvert_exporter": "python",
   "pygments_lexer": "ipython3",
   "version": "3.9.7"
  }
 },
 "nbformat": 4,
 "nbformat_minor": 5
}
